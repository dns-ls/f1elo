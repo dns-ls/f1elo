{
 "cells": [
  {
   "cell_type": "code",
   "execution_count": 83,
   "id": "4eca25e9",
   "metadata": {},
   "outputs": [],
   "source": [
    "import pyglicko2 as pg\n",
    "import pandas as pd\n",
    "import numpy as np\n",
    "win, loss, draw = pg.Outcome.WIN, pg.Outcome.LOSS, pg.Outcome.DRAW"
   ]
  },
  {
   "cell_type": "code",
   "execution_count": 98,
   "id": "741421c5",
   "metadata": {},
   "outputs": [],
   "source": [
    "de = pg.Player()\n",
    "dl = pg.Player()\n",
    "sa = pg.Player()"
   ]
  },
  {
   "cell_type": "code",
   "execution_count": 106,
   "id": "fdded37e",
   "metadata": {},
   "outputs": [
    {
     "data": {
      "text/html": [
       "<div>\n",
       "<style scoped>\n",
       "    .dataframe tbody tr th:only-of-type {\n",
       "        vertical-align: middle;\n",
       "    }\n",
       "\n",
       "    .dataframe tbody tr th {\n",
       "        vertical-align: top;\n",
       "    }\n",
       "\n",
       "    .dataframe thead th {\n",
       "        text-align: right;\n",
       "    }\n",
       "</style>\n",
       "<table border=\"1\" class=\"dataframe\">\n",
       "  <thead>\n",
       "    <tr style=\"text-align: right;\">\n",
       "      <th></th>\n",
       "      <th>0</th>\n",
       "      <th>1</th>\n",
       "      <th>2</th>\n",
       "    </tr>\n",
       "  </thead>\n",
       "  <tbody>\n",
       "    <tr>\n",
       "      <th>0</th>\n",
       "      <td>de</td>\n",
       "      <td>dl</td>\n",
       "      <td>sa</td>\n",
       "    </tr>\n",
       "    <tr>\n",
       "      <th>1</th>\n",
       "      <td>de</td>\n",
       "      <td>sa</td>\n",
       "      <td>dl</td>\n",
       "    </tr>\n",
       "    <tr>\n",
       "      <th>2</th>\n",
       "      <td>sa</td>\n",
       "      <td>dl</td>\n",
       "      <td>de</td>\n",
       "    </tr>\n",
       "  </tbody>\n",
       "</table>\n",
       "</div>"
      ],
      "text/plain": [
       "    0   1   2\n",
       "0  de  dl  sa\n",
       "1  de  sa  dl\n",
       "2  sa  dl  de"
      ]
     },
     "execution_count": 106,
     "metadata": {},
     "output_type": "execute_result"
    }
   ],
   "source": [
    "games = pd.DataFrame([[\"de\", \"dl\", \"sa\"], [\"de\", \"sa\", \"dl\"], [\"sa\", \"dl\", \"de\"]])\n",
    "games"
   ]
  },
  {
   "cell_type": "code",
   "execution_count": 100,
   "id": "116f8fd3",
   "metadata": {},
   "outputs": [],
   "source": [
    "def get_win_lose(df: pd.DataFrame, row) -> list:\n",
    "    # expected output: [[de, [dl, sa], [win, win]], [dl, [de, sa], [win, lose]], [sa, [de, dl], [lose, lose]]]\n",
    "    return_list = []\n",
    "    players = df.iloc[row]\n",
    "    for i, player in enumerate(players):\n",
    "        opponents = players.drop(i).values\n",
    "        results = []\n",
    "        for opponent in opponents:\n",
    "            if player == opponent:\n",
    "                results.append(draw)\n",
    "            elif (df.iloc[row].tolist().index(player) < df.iloc[row].tolist().index(opponent)):\n",
    "                results.append(win)\n",
    "            else:\n",
    "                results.append(loss)\n",
    "        return_list.append([player, opponents, results])\n",
    "    return return_list\n"
   ]
  },
  {
   "cell_type": "code",
   "execution_count": 101,
   "id": "2775fb89",
   "metadata": {},
   "outputs": [],
   "source": [
    "def update_players(df: pd.DataFrame, row: int):\n",
    "    players = np.array(df.iloc[row])\n",
    "    for i in range(len(players)):\n",
    "        player = players[i]\n",
    "        opponents = players[np.arange(len(players)) > i]\n",
    "        if len(opponents) == 0:\n",
    "            continue\n",
    "        print(f\"Updating {player} against {opponents}\")\n",
    "        for j in range(len(opponents)):\n",
    "            opponent = opponents[j]\n",
    "            if player == opponent:\n",
    "                continue\n",
    "            player_obj = globals()[player]\n",
    "            opponent_obj = globals()[opponent]\n",
    "            pg.update(player_obj, opponent_obj, win)\n"
   ]
  },
  {
   "cell_type": "code",
   "execution_count": 102,
   "id": "6c0196f2",
   "metadata": {},
   "outputs": [
    {
     "data": {
      "text/plain": [
       "Player(r=1500, RD=350, σ=0.06)"
      ]
     },
     "execution_count": 102,
     "metadata": {},
     "output_type": "execute_result"
    }
   ],
   "source": [
    "globals()[\"dl\"]"
   ]
  },
  {
   "cell_type": "code",
   "execution_count": 103,
   "id": "0993a0e4",
   "metadata": {},
   "outputs": [
    {
     "name": "stdout",
     "output_type": "stream",
     "text": [
      "Updating de against ['dl' 'sa']\n",
      "Updating dl against ['sa']\n",
      "Updating de against ['sa' 'dl']\n",
      "Updating sa against ['dl']\n",
      "Updating sa against ['dl' 'de']\n",
      "Updating dl against ['de']\n"
     ]
    }
   ],
   "source": [
    "update_players(games, 0)\n",
    "update_players(games, 1)\n",
    "update_players(games, 2)"
   ]
  },
  {
   "cell_type": "code",
   "execution_count": 104,
   "id": "b389eded",
   "metadata": {},
   "outputs": [
    {
     "name": "stdout",
     "output_type": "stream",
     "text": [
      " de Player(r=1463.1244387688403, RD=198.10622704672033, σ=0.06001123494445554) \n",
      " dl Player(r=1358.6474179898075, RD=177.45151754421045, σ=0.0600067788310375) \n",
      " sa Player(r=1572.801237808797, RD=180.42288986364488, σ=0.06000561739026538)\n"
     ]
    }
   ],
   "source": [
    "print(\" de\", de, \"\\n\",\n",
    "      \"dl\", dl, \"\\n\",\n",
    "      \"sa\", sa)"
   ]
  },
  {
   "cell_type": "code",
   "execution_count": null,
   "id": "8d1f7615",
   "metadata": {},
   "outputs": [],
   "source": []
  }
 ],
 "metadata": {
  "kernelspec": {
   "display_name": "myenv",
   "language": "python",
   "name": "python3"
  },
  "language_info": {
   "codemirror_mode": {
    "name": "ipython",
    "version": 3
   },
   "file_extension": ".py",
   "mimetype": "text/x-python",
   "name": "python",
   "nbconvert_exporter": "python",
   "pygments_lexer": "ipython3",
   "version": "3.12.3"
  }
 },
 "nbformat": 4,
 "nbformat_minor": 5
}
